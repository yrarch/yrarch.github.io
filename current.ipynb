{
  "cells": [
    {
      "cell_type": "raw",
      "metadata": {},
      "source": [
        "---\n",
        "title: \"Young Researchers in Archaeometry 6\"\n",
        "---"
      ],
      "id": "f2b80bd1"
    },
    {
      "cell_type": "markdown",
      "metadata": {},
      "source": [
        "```{css, echo = FALSE}\n",
        ".justify {\n",
        "  text-align: justify !important\n",
        "}\n",
        "```\n",
        "\n",
        "\n",
        "::: {.column-margin}\n",
        "\n",
        ":::: {.callout}\n",
        "\n",
        "## Mailing list\n",
        "Want to get in contact with other ECRs in Archaeometry and stay tuned about YRA?  \n",
        "[Subscribe to our mailinglist!](https://www.listserv.dfn.de/sympa/subscribe/yrarchaeometry){target=\"_blank\"}\n",
        "\n",
        "::::\n",
        "\n",
        ":::: {.callout}\n",
        "\n",
        "## Contact\n",
        "Any questions? Drop us a mail at [youngresearchersarch@gmail.com](mailto:youngresearchersarch@gmail.com)\n",
        "\n",
        "::::\n",
        "\n",
        ":::\n",
        "\n",
        "## Save the date!\n",
        "\n",
        "::: {.justify}\n",
        "\n",
        "We are happy to announce that the **6^th^ workshop Young Researchers in Archaeometry** will be held in **hybrid format** at the **University of Tübingen**, Germany from **October 4^th^ to 6^th^, 2023**. The workshop will once again welcome early career researchers (master, PhD, first postdoc) in archaeological sciences and cultural heritage studies.\n",
        "\n",
        "With this workshop we aim to offer a relaxed atmosphere to encourage interdisciplinary exchange between early career researchers. With a hybrid format, we are happy to welcome participants in person, as well as those online from all around the world, who cannot come to Tübingen. We are pleased to invite you for oral contributions in all kinds of natural sciences about archaeological and anthropological topics. In particular, early career researchers in archaeology, art history, anthropology, biology, chemistry, conservation, cultural heritage, earth science, material science, medicine, physics are welcome to propose an abstract.\n",
        "\n",
        ":::\n",
        "\n",
        "## Abtsract submission\n",
        "\n",
        "will be open in April. Stay tuned via our mailing list."
      ],
      "id": "99e5239d"
    }
  ],
  "metadata": {
    "kernelspec": {
      "display_name": "Python 3",
      "language": "python",
      "name": "python3"
    }
  },
  "nbformat": 4,
  "nbformat_minor": 5
}